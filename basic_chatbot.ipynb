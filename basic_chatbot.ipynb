{
  "nbformat": 4,
  "nbformat_minor": 0,
  "metadata": {
    "colab": {
      "provenance": [],
      "authorship_tag": "ABX9TyOYahdzzkr/X8f43muNgjUI",
      "include_colab_link": true
    },
    "kernelspec": {
      "name": "python3",
      "display_name": "Python 3"
    },
    "language_info": {
      "name": "python"
    }
  },
  "cells": [
    {
      "cell_type": "markdown",
      "metadata": {
        "id": "view-in-github",
        "colab_type": "text"
      },
      "source": [
        "<a href=\"https://colab.research.google.com/github/laraibnawaz/assignment01/blob/main/basic_chatbot.ipynb\" target=\"_parent\"><img src=\"https://colab.research.google.com/assets/colab-badge.svg\" alt=\"Open In Colab\"/></a>"
      ]
    },
    {
      "cell_type": "code",
      "execution_count": 1,
      "metadata": {
        "colab": {
          "base_uri": "https://localhost:8080/"
        },
        "id": "LGKG46JzMVPB",
        "outputId": "fd561dc0-dc40-41dc-c19b-bf1b9104c832"
      },
      "outputs": [
        {
          "output_type": "stream",
          "name": "stdout",
          "text": [
            "\u001b[?25l   \u001b[90m━━━━━━━━━━━━━━━━━━━━━━━━━━━━━━━━━━━━━━━━\u001b[0m \u001b[32m0.0/41.7 kB\u001b[0m \u001b[31m?\u001b[0m eta \u001b[36m-:--:--\u001b[0m\r\u001b[2K   \u001b[90m━━━━━━━━━━━━━━━━━━━━━━━━━━━━━━━━━━━━━━━━\u001b[0m \u001b[32m41.7/41.7 kB\u001b[0m \u001b[31m1.7 MB/s\u001b[0m eta \u001b[36m0:00:00\u001b[0m\n",
            "\u001b[?25h"
          ]
        }
      ],
      "source": [
        "%pip install -q -U langchain\n",
        "%pip install -q -U langchain-google-genai"
      ]
    },
    {
      "cell_type": "code",
      "source": [
        "# # Import the IPython library to access its application instance\n",
        "# import IPython\n",
        "\n",
        "# # Retrieve the current IPython application instance\n",
        "# app = IPython.Application.instance()\n",
        "\n",
        "# # Perform a complete shutdown of the current IPython kernel including restarting the kernel\n",
        "# # it will help the environment to access the new packages\n",
        "# app.kernel.do_shutdown(True)\n",
        "\n",
        "# {'status': 'ok', 'restart': True}"
      ],
      "metadata": {
        "id": "Zl1ykxkLMfDX"
      },
      "execution_count": 2,
      "outputs": []
    },
    {
      "cell_type": "code",
      "source": [
        "# Import the textwrap module for text formatting and indentation\n",
        "import textwrap\n",
        "\n",
        "# Import the Markdown display function from IPython to render text as Markdown in Jupyter Notebooks\n",
        "from IPython.display import Markdown\n",
        "\n",
        "# Define a function 'to_markdown' that converts a given text into Markdown format\n",
        "def to_markdown(text) -> Markdown:\n",
        "    # Replace bullet points (•) with Markdown-compatible bullet points (*)\n",
        "    text: str = text.replace(\"•\", \"  *\")\n",
        "\n",
        "    # Indent the entire text block with the Markdown blockquote symbol ('> ')\n",
        "    # The lambda function ensures every line is indented\n",
        "    return Markdown(textwrap.indent(text, \"> \", predicate=lambda _: True))"
      ],
      "metadata": {
        "id": "TRbiCZtjMjP5"
      },
      "execution_count": 3,
      "outputs": []
    },
    {
      "cell_type": "code",
      "source": [
        "from google.colab import userdata\n",
        "google_api_key = userdata.get('GEMINI_API_KEY')"
      ],
      "metadata": {
        "id": "Oxz5TBcEMoF2"
      },
      "execution_count": 4,
      "outputs": []
    },
    {
      "cell_type": "code",
      "source": [
        "# Import the ChatGoogleGenerativeAI class from the langchain_google_genai module\n",
        "# this will be used for using langchain with gemni\n",
        "from langchain_google_genai import ChatGoogleGenerativeAI\n",
        "\n",
        "# Import the AIMessage class currently will be used for typing\n",
        "from langchain_core.messages.ai import AIMessage\n",
        "\n",
        "# Initialize an instance of the ChatGoogleGenerativeAI with specific parameters\n",
        "llm: ChatGoogleGenerativeAI = ChatGoogleGenerativeAI(\n",
        "    model=\"gemini-1.5-flash\",  # Specify the model to use\n",
        "    api_key=google_api_key,     # Provide the Google API key for authentication\n",
        "    temperature=0.2,            # Set the randomness of the model's responses (0 = deterministic, 1 = very random)\n",
        ")"
      ],
      "metadata": {
        "id": "Prc84FJNM3qP"
      },
      "execution_count": 5,
      "outputs": []
    },
    {
      "cell_type": "code",
      "source": [
        "ai_msg: AIMessage = llm.invoke(\"what is the best niche for making an agent\")"
      ],
      "metadata": {
        "id": "s_95d1_zNKxz"
      },
      "execution_count": 6,
      "outputs": []
    },
    {
      "cell_type": "code",
      "source": [
        "ai_msg"
      ],
      "metadata": {
        "colab": {
          "base_uri": "https://localhost:8080/"
        },
        "id": "002DRYf_NcK_",
        "outputId": "eeae3c52-1fc6-4377-aa64-aebc1e7cf597"
      },
      "execution_count": 7,
      "outputs": [
        {
          "output_type": "execute_result",
          "data": {
            "text/plain": [
              "AIMessage(content='There\\'s no single \"best\" niche for creating an AI agent, as the ideal niche depends heavily on your skills, resources, and market analysis.  However, some promising and potentially lucrative niches with high demand include:\\n\\n**High-Demand Niches:**\\n\\n* **Customer Service & Support:**  Agents can handle FAQs, troubleshoot issues, and provide personalized support across various platforms (chatbots, email, etc.).  This is a massive market with ongoing need for automation.\\n* **Personalized Education & Tutoring:** Agents can adapt to individual learning styles, provide customized feedback, and offer targeted practice exercises.  The edtech space is booming.\\n* **Financial & Investment Management:**  Agents can analyze market data, provide investment recommendations (with appropriate disclaimers!), and manage portfolios (with regulatory compliance).  Requires deep expertise and careful consideration of legal and ethical implications.\\n* **Healthcare & Wellness:** Agents can assist with appointment scheduling, medication reminders, and basic health information retrieval.  Requires careful consideration of HIPAA and other regulations.\\n* **Sales & Marketing Automation:** Agents can qualify leads, personalize marketing messages, and automate sales processes.  This can significantly improve efficiency and conversion rates.\\n* **Legal Research & Document Review:** Agents can assist lawyers with legal research, document review, and contract analysis.  Requires careful consideration of legal and ethical implications and data privacy.\\n\\n\\n**Niches with Emerging Potential:**\\n\\n* **Creative Content Generation:**  Agents can assist with writing, image generation, music composition, and other creative tasks.  This area is rapidly evolving with advancements in generative AI.\\n* **Personalized Fitness & Nutrition Coaching:** Agents can create personalized workout plans and nutrition guides based on individual needs and goals.\\n* **Smart Home Management:** Agents can control and automate various smart home devices, optimizing energy consumption and enhancing convenience.\\n\\n\\n**Factors to Consider When Choosing a Niche:**\\n\\n* **Your Expertise:**  Do you have the necessary domain knowledge to build a successful agent in this area?\\n* **Market Demand:**  Is there a significant market need for an agent in this niche?\\n* **Technical Feasibility:**  Is it technically feasible to build an agent that can effectively address the needs of this niche?\\n* **Competition:**  How much competition is there already in this niche?\\n* **Ethical Considerations:**  Are there any ethical concerns or potential biases that need to be addressed?\\n* **Data Availability:**  Do you have access to the data needed to train and improve your agent?\\n\\n\\nBefore diving in, conduct thorough market research to validate your chosen niche and assess its potential for success.  Start with a Minimum Viable Product (MVP) to test your assumptions and gather user feedback before investing significant resources. Remember to prioritize ethical considerations and responsible AI development throughout the process.', additional_kwargs={}, response_metadata={'prompt_feedback': {'block_reason': 0, 'safety_ratings': []}, 'finish_reason': 'STOP', 'safety_ratings': []}, id='run-77ef9289-b657-4773-8298-9791990fde2d-0', usage_metadata={'input_tokens': 10, 'output_tokens': 569, 'total_tokens': 579, 'input_token_details': {'cache_read': 0}})"
            ]
          },
          "metadata": {},
          "execution_count": 7
        }
      ]
    },
    {
      "cell_type": "code",
      "source": [
        "ai_msg: AIMessage = llm.invoke(\"how can focus on the acheivement of goals ???\")"
      ],
      "metadata": {
        "id": "oMEOtZsCdXEa"
      },
      "execution_count": 8,
      "outputs": []
    },
    {
      "cell_type": "code",
      "source": [
        "ai_msg"
      ],
      "metadata": {
        "colab": {
          "base_uri": "https://localhost:8080/"
        },
        "id": "DHQhg6Z0dcu4",
        "outputId": "8b42d75f-cad2-4821-a346-ecebfe227974"
      },
      "execution_count": 9,
      "outputs": [
        {
          "output_type": "execute_result",
          "data": {
            "text/plain": [
              "AIMessage(content='Focusing on the achievement of goals requires a multifaceted approach. Here\\'s a breakdown of strategies you can use:\\n\\n**1. Goal Setting:**\\n\\n* **SMART Goals:**  Ensure your goals are **Specific, Measurable, Achievable, Relevant, and Time-bound.**  Vague goals are hard to track and achieve.  Instead of \"Get in shape,\" aim for \"Lose 10 pounds by June 1st by exercising 3 times a week and following a calorie-controlled diet.\"\\n* **Prioritize:**  Focus on the most important goals first.  Don\\'t try to tackle everything at once.  Use methods like the Eisenhower Matrix (urgent/important) to prioritize tasks.\\n* **Break Down Large Goals:**  Overwhelmingly large goals can be paralyzing. Break them down into smaller, manageable steps.  This makes progress feel more attainable and provides a sense of accomplishment along the way.\\n* **Write it Down:**  The act of writing down your goals makes them more concrete and increases your commitment.  Consider using a journal, planner, or goal-setting app.\\n\\n**2. Planning & Execution:**\\n\\n* **Create a Plan:**  Develop a detailed plan outlining the steps needed to achieve each goal.  Include deadlines, resources required, and potential obstacles.\\n* **Schedule Time:**  Allocate specific time slots in your schedule for working towards your goals. Treat these appointments as seriously as you would any other important meeting.\\n* **Track Your Progress:**  Regularly monitor your progress.  Use a tracker, spreadsheet, or app to keep tabs on your achievements and identify areas needing improvement.\\n* **Review and Adjust:**  Regularly review your goals and plans.  Are you on track?  Do you need to adjust your approach?  Be flexible and willing to adapt as needed.\\n* **Develop Habits:**  Consistent effort is key.  Build habits that support your goals.  Small, consistent actions over time lead to significant results.\\n\\n**3. Mindset & Motivation:**\\n\\n* **Visualize Success:**  Imagine yourself achieving your goals.  This can boost your motivation and confidence.\\n* **Positive Self-Talk:**  Replace negative self-talk with positive affirmations.  Believe in your ability to succeed.\\n* **Celebrate Milestones:**  Acknowledge and celebrate your accomplishments, no matter how small.  This reinforces positive behavior and keeps you motivated.\\n* **Find Accountability:**  Share your goals with a friend, family member, or mentor who can provide support and encouragement.  Consider joining a group with shared goals.\\n* **Manage Stress and Burnout:**  Avoid overworking yourself.  Build in time for rest and relaxation to prevent burnout.  Practice self-care.\\n* **Focus on the Process, Not Just the Outcome:**  Enjoy the journey.  Focus on the satisfaction of making progress, not just the final destination.  This helps maintain motivation even when facing setbacks.\\n* **Learn from Failure:**  Setbacks are inevitable.  View them as learning opportunities and adjust your approach accordingly.  Don\\'t let failure discourage you.\\n\\n\\n**4. Tools and Resources:**\\n\\n* **Goal-setting apps:**  Many apps can help you track progress, set reminders, and stay organized.\\n* **Productivity techniques:**  Explore techniques like the Pomodoro Technique, time blocking, or Getting Things Done (GTD) to improve your efficiency.\\n* **Support groups or coaches:**  Consider seeking support from others who share your goals or from a professional coach.\\n\\n\\nBy implementing these strategies, you can significantly improve your ability to focus on and achieve your goals. Remember that consistency and perseverance are crucial for long-term success.', additional_kwargs={}, response_metadata={'prompt_feedback': {'block_reason': 0, 'safety_ratings': []}, 'finish_reason': 'STOP', 'safety_ratings': []}, id='run-64717459-6cf5-421c-b946-5fbb642ca4fd-0', usage_metadata={'input_tokens': 12, 'output_tokens': 759, 'total_tokens': 771, 'input_token_details': {'cache_read': 0}})"
            ]
          },
          "metadata": {},
          "execution_count": 9
        }
      ]
    },
    {
      "cell_type": "code",
      "source": [
        "ai_msg.content"
      ],
      "metadata": {
        "colab": {
          "base_uri": "https://localhost:8080/",
          "height": 244
        },
        "id": "tVLLH6rgMVcg",
        "outputId": "1b7cad9d-fbb2-429f-b058-b3acb307af33"
      },
      "execution_count": 10,
      "outputs": [
        {
          "output_type": "execute_result",
          "data": {
            "text/plain": [
              "'Focusing on the achievement of goals requires a multifaceted approach. Here\\'s a breakdown of strategies you can use:\\n\\n**1. Goal Setting:**\\n\\n* **SMART Goals:**  Ensure your goals are **Specific, Measurable, Achievable, Relevant, and Time-bound.**  Vague goals are hard to track and achieve.  Instead of \"Get in shape,\" aim for \"Lose 10 pounds by June 1st by exercising 3 times a week and following a calorie-controlled diet.\"\\n* **Prioritize:**  Focus on the most important goals first.  Don\\'t try to tackle everything at once.  Use methods like the Eisenhower Matrix (urgent/important) to prioritize tasks.\\n* **Break Down Large Goals:**  Overwhelmingly large goals can be paralyzing. Break them down into smaller, manageable steps.  This makes progress feel more attainable and provides a sense of accomplishment along the way.\\n* **Write it Down:**  The act of writing down your goals makes them more concrete and increases your commitment.  Consider using a journal, planner, or goal-setting app.\\n\\n**2. Planning & Execution:**\\n\\n* **Create a Plan:**  Develop a detailed plan outlining the steps needed to achieve each goal.  Include deadlines, resources required, and potential obstacles.\\n* **Schedule Time:**  Allocate specific time slots in your schedule for working towards your goals. Treat these appointments as seriously as you would any other important meeting.\\n* **Track Your Progress:**  Regularly monitor your progress.  Use a tracker, spreadsheet, or app to keep tabs on your achievements and identify areas needing improvement.\\n* **Review and Adjust:**  Regularly review your goals and plans.  Are you on track?  Do you need to adjust your approach?  Be flexible and willing to adapt as needed.\\n* **Develop Habits:**  Consistent effort is key.  Build habits that support your goals.  Small, consistent actions over time lead to significant results.\\n\\n**3. Mindset & Motivation:**\\n\\n* **Visualize Success:**  Imagine yourself achieving your goals.  This can boost your motivation and confidence.\\n* **Positive Self-Talk:**  Replace negative self-talk with positive affirmations.  Believe in your ability to succeed.\\n* **Celebrate Milestones:**  Acknowledge and celebrate your accomplishments, no matter how small.  This reinforces positive behavior and keeps you motivated.\\n* **Find Accountability:**  Share your goals with a friend, family member, or mentor who can provide support and encouragement.  Consider joining a group with shared goals.\\n* **Manage Stress and Burnout:**  Avoid overworking yourself.  Build in time for rest and relaxation to prevent burnout.  Practice self-care.\\n* **Focus on the Process, Not Just the Outcome:**  Enjoy the journey.  Focus on the satisfaction of making progress, not just the final destination.  This helps maintain motivation even when facing setbacks.\\n* **Learn from Failure:**  Setbacks are inevitable.  View them as learning opportunities and adjust your approach accordingly.  Don\\'t let failure discourage you.\\n\\n\\n**4. Tools and Resources:**\\n\\n* **Goal-setting apps:**  Many apps can help you track progress, set reminders, and stay organized.\\n* **Productivity techniques:**  Explore techniques like the Pomodoro Technique, time blocking, or Getting Things Done (GTD) to improve your efficiency.\\n* **Support groups or coaches:**  Consider seeking support from others who share your goals or from a professional coach.\\n\\n\\nBy implementing these strategies, you can significantly improve your ability to focus on and achieve your goals. Remember that consistency and perseverance are crucial for long-term success.'"
            ],
            "application/vnd.google.colaboratory.intrinsic+json": {
              "type": "string"
            }
          },
          "metadata": {},
          "execution_count": 10
        }
      ]
    },
    {
      "cell_type": "code",
      "source": [
        "%%capture --no-stderr\n",
        "%pip install --quiet -U langgraph"
      ],
      "metadata": {
        "id": "AWWNGnt3MlV2"
      },
      "execution_count": 11,
      "outputs": []
    },
    {
      "cell_type": "code",
      "source": [
        "from typing import Annotated\n",
        "\n",
        "from typing_extensions import TypedDict\n",
        "\n",
        "from langgraph.graph import StateGraph, START, END\n",
        "from langgraph.graph.message import add_messages\n",
        "\n",
        "\n",
        "class State(TypedDict):\n",
        "    # Messages have the type \"list\". The `add_messages` function\n",
        "    # in the annotation defines how this state key should be updated\n",
        "    # (in this case, it appends messages to the list, rather than overwriting them)\n",
        "    messages: Annotated[list, add_messages]\n",
        "\n",
        "\n",
        "graph_builder = StateGraph(State)"
      ],
      "metadata": {
        "id": "FZRTMTSOMoVl"
      },
      "execution_count": 12,
      "outputs": []
    },
    {
      "cell_type": "code",
      "source": [
        "def chatbot(state: State):\n",
        "    return {\"messages\": [llm.invoke(state[\"messages\"])]}\n",
        "\n",
        "\n",
        "# The first argument is the unique node name\n",
        "# The second argument is the function or object that will be called whenever\n",
        "# the node is used.\n",
        "graph_builder.add_node(\"chatbot\", chatbot)"
      ],
      "metadata": {
        "colab": {
          "base_uri": "https://localhost:8080/"
        },
        "id": "-y5bI7LWMsjg",
        "outputId": "da928388-5a69-413f-bf16-b20b6a561e3b"
      },
      "execution_count": 13,
      "outputs": [
        {
          "output_type": "execute_result",
          "data": {
            "text/plain": [
              "<langgraph.graph.state.StateGraph at 0x7f560af9f710>"
            ]
          },
          "metadata": {},
          "execution_count": 13
        }
      ]
    },
    {
      "cell_type": "code",
      "source": [
        "graph_builder.add_edge(START, \"chatbot\")\n",
        "graph_builder.add_edge(\"chatbot\", END)"
      ],
      "metadata": {
        "colab": {
          "base_uri": "https://localhost:8080/"
        },
        "id": "GD0vtOBHM7B1",
        "outputId": "6108fad4-4d9b-488e-e6d9-1982899470bb"
      },
      "execution_count": 14,
      "outputs": [
        {
          "output_type": "execute_result",
          "data": {
            "text/plain": [
              "<langgraph.graph.state.StateGraph at 0x7f560af9f710>"
            ]
          },
          "metadata": {},
          "execution_count": 14
        }
      ]
    },
    {
      "cell_type": "code",
      "source": [
        "graph = graph_builder.compile()"
      ],
      "metadata": {
        "id": "xXtytQtDM7km"
      },
      "execution_count": 15,
      "outputs": []
    },
    {
      "cell_type": "code",
      "source": [
        "from IPython.display import Image, display\n",
        "\n",
        "try:\n",
        "    display(Image(graph.get_graph().draw_mermaid_png()))\n",
        "except Exception:\n",
        "    # This requires some extra dependencies and is optional\n",
        "    pass"
      ],
      "metadata": {
        "colab": {
          "base_uri": "https://localhost:8080/",
          "height": 251
        },
        "id": "QtqYQ94cNFom",
        "outputId": "3666cc47-822c-40e2-aeef-5ce566c6506b"
      },
      "execution_count": 16,
      "outputs": [
        {
          "output_type": "display_data",
          "data": {
            "image/png": "[encoded data removed]",
            "text/plain": [
              "<IPython.core.display.Image object>"
            ]
          },
          "metadata": {}
        }
      ]
    },
    {
      "cell_type": "code",
      "source": [
        "def stream_graph_updates(user_input: str):\n",
        "    for event in graph.stream({\"messages\": [{\"role\": \"user\", \"content\": user_input}]}):\n",
        "        for value in event.values():\n",
        "            print(\"Assistant:\", value[\"messages\"][-1].content)\n",
        "\n",
        "\n",
        "while True:\n",
        "    try:\n",
        "        user_input = input(\"User: \")\n",
        "        if user_input.lower() in [\"quit\", \"exit\", \"q\"]:\n",
        "            print(\"Goodbye!\")\n",
        "            break\n",
        "\n",
        "        stream_graph_updates(user_input)\n",
        "    except:\n",
        "        # fallback if input() is not available\n",
        "        user_input = \"What do you know about LangGraph?\"\n",
        "        print(\"User: \" + user_input)\n",
        "        stream_graph_updates(user_input)\n",
        "        break"
      ],
      "metadata": {
        "colab": {
          "base_uri": "https://localhost:8080/"
        },
        "id": "Q3957gc_Nbtq",
        "outputId": "0daef57a-c171-4828-e085-57cb203ba72c"
      },
      "execution_count": 17,
      "outputs": [
        {
          "output_type": "stream",
          "name": "stdout",
          "text": [
            "User: what is sdk\n",
            "Assistant: SDK stands for **Software Development Kit**.  It's a collection of software development tools that allows programmers to create applications for a specific software package, software framework, hardware platform, computer system, video game console, operating system, etc.\n",
            "\n",
            "Think of it as a toolbox.  Instead of having to build every single tool from scratch (like writing your own code to handle network connections or graphics rendering), an SDK provides pre-built components, libraries, and documentation that you can use to speed up the development process.  This includes:\n",
            "\n",
            "* **Libraries:** Pre-written code modules that provide specific functionalities (e.g., a library for handling image processing or database interactions).\n",
            "* **APIs (Application Programming Interfaces):**  A set of rules and specifications that allow different software components to communicate with each other.  The SDK often provides the tools and documentation needed to use these APIs.\n",
            "* **Compilers and Debuggers:** Tools to translate your code into a format the computer can understand and to identify and fix errors in your code.\n",
            "* **Documentation:** Manuals, tutorials, and examples that explain how to use the SDK's components.\n",
            "* **Sample Code:**  Example programs that demonstrate how to use the SDK's features.\n",
            "\n",
            "Different SDKs exist for different platforms and purposes. For example:\n",
            "\n",
            "* **Android SDK:** For developing Android apps.\n",
            "* **iOS SDK:** For developing iOS apps.\n",
            "* **Windows SDK:** For developing Windows applications.\n",
            "* **AWS SDK:** For developing applications that interact with Amazon Web Services.\n",
            "* **Game SDKs (like Unity or Unreal Engine):** For creating video games.\n",
            "\n",
            "In short, an SDK significantly simplifies and accelerates the development process by providing developers with the necessary tools and resources.\n",
            "User: quit\n",
            "Goodbye!\n"
          ]
        }
      ]
    }
  ]
}